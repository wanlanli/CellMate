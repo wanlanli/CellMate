{
 "cells": [
  {
   "cell_type": "code",
   "execution_count": 1,
   "id": "ce74e11c-4a47-45ce-80d4-345176d29465",
   "metadata": {},
   "outputs": [],
   "source": [
    "import sys\n",
    "sys.path.append(\".\")"
   ]
  },
  {
   "cell_type": "code",
   "execution_count": 2,
   "id": "a6b36847-1e86-4d08-baae-46f58f8f0236",
   "metadata": {},
   "outputs": [],
   "source": [
    "from cellmate.image_measure import ImageMeasure"
   ]
  },
  {
   "cell_type": "code",
   "execution_count": null,
   "id": "806fc18f-6441-40f1-a0d2-ae60a040d06b",
   "metadata": {},
   "outputs": [],
   "source": []
  }
 ],
 "metadata": {
  "kernelspec": {
   "display_name": "Python 3 (ipykernel)",
   "language": "python",
   "name": "python3"
  },
  "language_info": {
   "codemirror_mode": {
    "name": "ipython",
    "version": 3
   },
   "file_extension": ".py",
   "mimetype": "text/x-python",
   "name": "python",
   "nbconvert_exporter": "python",
   "pygments_lexer": "ipython3",
   "version": "3.11.5"
  }
 },
 "nbformat": 4,
 "nbformat_minor": 5
}
